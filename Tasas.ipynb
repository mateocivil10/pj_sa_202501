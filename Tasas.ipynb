{
  "nbformat": 4,
  "nbformat_minor": 0,
  "metadata": {
    "colab": {
      "provenance": []
    },
    "kernelspec": {
      "name": "python3",
      "display_name": "Python 3"
    },
    "language_info": {
      "name": "python"
    }
  },
  "cells": [
    {
      "cell_type": "code",
      "execution_count": 1,
      "metadata": {
        "colab": {
          "base_uri": "https://localhost:8080/"
        },
        "id": "EbxjI6GP9bEj",
        "outputId": "6b770c29-7dd7-4d18-a5b8-5ad6e6d4a40e"
      },
      "outputs": [
        {
          "output_type": "stream",
          "name": "stdout",
          "text": [
            "Tasa efectiva anual desde nominal mensual: 39.8321%\n",
            "Tasa efectiva anual desde nominal trimestral: 41.1582%\n",
            "Tasa nominal mensual desde TEA: 34.9723%\n",
            "Tasa efectiva anual desde semestral: 25.4400%\n",
            "Tasa efectiva semestral desde TEA: 5.8301%\n"
          ]
        }
      ],
      "source": [
        "import math\n",
        "\n",
        "def tasa_efectiva_anual(tna, m):\n",
        "    return (1 + tna / m) ** m - 1\n",
        "\n",
        "def tasa_efectiva_anual_desde_nominal(tna, m):\n",
        "    return tasa_efectiva_anual(tna, m)\n",
        "\n",
        "def tasa_nominal_mensual(tea):\n",
        "    tem = (1 + tea) ** (1/12) - 1\n",
        "    return tem * 12\n",
        "\n",
        "def tasa_efectiva_anual_desde_semestral(tes):\n",
        "    return (1 + tes) ** 2 - 1\n",
        "\n",
        "def tasa_semestral_desde_anual(tea):\n",
        "    return (1 + tea) ** (1/2) - 1\n",
        "\n",
        "# Datos\n",
        "tna_mensual = 0.34  # 34%\n",
        "tna_trimestral = 0.36  # 36%\n",
        "tea_mensual = 0.4116  # 41.16%\n",
        "tes = 0.12  # 12%\n",
        "tea = 0.12  # 12%\n",
        "\n",
        "# Cálculos\n",
        "tea_resultado = tasa_efectiva_anual_desde_nominal(tna_mensual, 12)\n",
        "print(f\"Tasa efectiva anual desde nominal mensual: {tea_resultado:.4%}\")\n",
        "\n",
        "tea_trimestral_resultado = tasa_efectiva_anual_desde_nominal(tna_trimestral, 4)\n",
        "print(f\"Tasa efectiva anual desde nominal trimestral: {tea_trimestral_resultado:.4%}\")\n",
        "\n",
        "tnm_resultado = tasa_nominal_mensual(tea_mensual)\n",
        "print(f\"Tasa nominal mensual desde TEA: {tnm_resultado:.4%}\")\n",
        "\n",
        "tea_desde_tes = tasa_efectiva_anual_desde_semestral(tes)\n",
        "print(f\"Tasa efectiva anual desde semestral: {tea_desde_tes:.4%}\")\n",
        "\n",
        "tes_desde_tea = tasa_semestral_desde_anual(tea)\n",
        "print(f\"Tasa efectiva semestral desde TEA: {tes_desde_tea:.4%}\")"
      ]
    }
  ]
}