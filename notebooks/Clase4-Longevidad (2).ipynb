{
 "cells": [
  {
   "cell_type": "code",
   "execution_count": 1,
   "id": "f7330dd5-d755-445a-9b10-5cc3e7cd4409",
   "metadata": {},
   "outputs": [],
   "source": [
    "import pandas as pd\n",
    "import numpy as np\n",
    "\n",
    "import sys\n",
    "import os\n",
    "import warnings\n",
    "import scipy.stats as stats\n",
    "from scipy.interpolate import interp1d\n",
    "\n",
    "warnings.filterwarnings('ignore')"
   ]
  },
  {
   "cell_type": "code",
   "execution_count": 2,
   "id": "0b75e059",
   "metadata": {},
   "outputs": [],
   "source": [
    "import matplotlib.pyplot as plt"
   ]
  },
  {
   "cell_type": "code",
   "execution_count": 3,
   "id": "3f184359-32b2-4f5c-9682-23e4fa1802b6",
   "metadata": {},
   "outputs": [],
   "source": [
    "def vf_cte(pago, n, i,valor_inicial):\n",
    "\n",
    "  pagos = np.ones(n) * pago + np.concatenate(([valor_inicial], np.zeros(n-1)))    \n",
    "  print(pagos.sum())\n",
    "  cao_factor = np.ones(n) * (1 + i) ** np.arange(n,0,-1)\n",
    "  resp_vector = pagos * cao_factor\n",
    "  resp = resp_vector.sum() \n",
    "  return resp\n",
    "\n",
    "def TMensual(Tmort):\n",
    "    \"\"\"\n",
    "    Interpola los valores de l(x) en pasos de 1/12 (mensual) y calcula q(x) y p(x).\n",
    "    \n",
    "    Parameters:\n",
    "    Tmort (DataFrame): DataFrame que contiene las columnas 'x' y 'l(x)'.\n",
    "    \n",
    "    Returns:\n",
    "    DataFrame: DataFrame con valores interpolados de x, l(x), q(x) y p(x).\n",
    "    \"\"\"\n",
    "    \n",
    "    # Aseguramos que Tmort tiene las columnas adecuadas\n",
    "    if 'x' not in Tmort.columns or 'l(x)' not in Tmort.columns:\n",
    "        raise ValueError(\"El DataFrame debe contener las columnas 'x' y 'l(x)'\")\n",
    "    \n",
    "    # Obtener los valores de x y l(x)\n",
    "    x_values = Tmort['x'].values\n",
    "    lx_values = Tmort['l(x)'].values\n",
    "    \n",
    "    # Crear una función de interpolación\n",
    "    interp_function = interp1d(x_values, lx_values, kind='linear', fill_value='extrapolate')\n",
    "    \n",
    "    # Crear los nuevos valores de x con un paso de 1/12, hasta 110 (incluyendo 110)\n",
    "    new_x = np.arange(x_values[0], 110 + 1/12, 1/12)  # Incrementos mensuales hasta 110\n",
    "    \n",
    "    # Calcular los valores de l(x) interpolados\n",
    "    new_lx = interp_function(new_x)\n",
    "    \n",
    "    # Inicializar los arrays para q(x) y p(x)\n",
    "    qx_values = np.zeros(len(new_x) - 1)  # Inicializar el array para q(x)\n",
    "    px_values = np.zeros(len(new_x) - 1)  # Inicializar el array para p(x)\n",
    "\n",
    "    # Calcular q(x) y p(x) para cada nuevo valor de x\n",
    "    for i in range(len(new_x)-1):\n",
    "        if new_lx[i] > 0:  # Evitar división por cero\n",
    "            qx_values[i] = 1 - (new_lx[i + 1] / new_lx[i])  # q(x) = 1 - l(x + 1/12) / l(x)\n",
    "        else:\n",
    "            qx_values[i] = 0  # Si l(x) es 0, q(x) también debe ser 0\n",
    "\n",
    "        px_values[i] = 1 - qx_values[i]  # p(x) = 1 - q(x)\n",
    "\n",
    "\n",
    "    # Crear un nuevo DataFrame con los valores interpolados y calculados\n",
    "    interpolated_df = pd.DataFrame({\n",
    "        'x': new_x,  # Incluir hasta 110\n",
    "        'l(x)': new_lx,  # Excluir el último por la misma razón\n",
    "        'q(x)': np.append(qx_values, 1),  # Añadir el valor de q(110)\n",
    "        'p(x)': np.append(px_values, 0)  # Añadir el valor de p(110)\n",
    "    })\n",
    "    \n",
    "    return interpolated_df\n",
    "\n",
    "def tmort_filtered(df,edad):\n",
    "    qx_vec=df[df['x']>=edad]\n",
    "    return qx_vec"
   ]
  },
  {
   "cell_type": "code",
   "execution_count": 4,
   "id": "acb50a8a-bf64-4ab9-97dd-e9da786535e6",
   "metadata": {},
   "outputs": [],
   "source": [
    "os.chdir('C://Users//USER//Downloads//')\n",
    "pd.set_option('display.float_format','{:,.2f}'.format)"
   ]
  },
  {
   "cell_type": "code",
   "execution_count": 5,
   "id": "a2a0ec98-98d2-4027-b794-d15cb1dfaf6a",
   "metadata": {},
   "outputs": [
    {
     "name": "stdout",
     "output_type": "stream",
     "text": [
      "Index(['Unnamed: 0', 'Edad', 'Casado', 'Genero', 'Edad_pareja', 'Sexo_pareja',\n",
      "       'Pago_mensual'],\n",
      "      dtype='object')\n"
     ]
    }
   ],
   "source": [
    "data=pd.read_excel('datos_longevidad.xlsx','Data')\n",
    "print(data.columns)\n",
    "data=data[['Edad','Casado', 'Genero', 'Edad_pareja', 'Sexo_pareja',\n",
    "       'Pago_mensual']]"
   ]
  },
  {
   "cell_type": "code",
   "execution_count": 6,
   "id": "d784162e-bfa6-4c3d-9ee4-329713b91d94",
   "metadata": {},
   "outputs": [
    {
     "data": {
      "text/html": [
       "<div>\n",
       "<style scoped>\n",
       "    .dataframe tbody tr th:only-of-type {\n",
       "        vertical-align: middle;\n",
       "    }\n",
       "\n",
       "    .dataframe tbody tr th {\n",
       "        vertical-align: top;\n",
       "    }\n",
       "\n",
       "    .dataframe thead th {\n",
       "        text-align: right;\n",
       "    }\n",
       "</style>\n",
       "<table border=\"1\" class=\"dataframe\">\n",
       "  <thead>\n",
       "    <tr style=\"text-align: right;\">\n",
       "      <th></th>\n",
       "      <th>Edad</th>\n",
       "      <th>Casado</th>\n",
       "      <th>Genero</th>\n",
       "      <th>Edad_pareja</th>\n",
       "      <th>Sexo_pareja</th>\n",
       "      <th>Pago_mensual</th>\n",
       "    </tr>\n",
       "  </thead>\n",
       "  <tbody>\n",
       "    <tr>\n",
       "      <th>0</th>\n",
       "      <td>68</td>\n",
       "      <td>0</td>\n",
       "      <td>M</td>\n",
       "      <td>0</td>\n",
       "      <td>0</td>\n",
       "      <td>4,196,583.06</td>\n",
       "    </tr>\n",
       "    <tr>\n",
       "      <th>1</th>\n",
       "      <td>67</td>\n",
       "      <td>1</td>\n",
       "      <td>H</td>\n",
       "      <td>67</td>\n",
       "      <td>H</td>\n",
       "      <td>1,983,941.40</td>\n",
       "    </tr>\n",
       "    <tr>\n",
       "      <th>2</th>\n",
       "      <td>80</td>\n",
       "      <td>1</td>\n",
       "      <td>H</td>\n",
       "      <td>77</td>\n",
       "      <td>H</td>\n",
       "      <td>4,014,628.81</td>\n",
       "    </tr>\n",
       "    <tr>\n",
       "      <th>3</th>\n",
       "      <td>71</td>\n",
       "      <td>1</td>\n",
       "      <td>H</td>\n",
       "      <td>85</td>\n",
       "      <td>M</td>\n",
       "      <td>5,710,179.97</td>\n",
       "    </tr>\n",
       "    <tr>\n",
       "      <th>4</th>\n",
       "      <td>66</td>\n",
       "      <td>0</td>\n",
       "      <td>M</td>\n",
       "      <td>0</td>\n",
       "      <td>0</td>\n",
       "      <td>7,882,172.76</td>\n",
       "    </tr>\n",
       "    <tr>\n",
       "      <th>...</th>\n",
       "      <td>...</td>\n",
       "      <td>...</td>\n",
       "      <td>...</td>\n",
       "      <td>...</td>\n",
       "      <td>...</td>\n",
       "      <td>...</td>\n",
       "    </tr>\n",
       "    <tr>\n",
       "      <th>1195</th>\n",
       "      <td>78</td>\n",
       "      <td>0</td>\n",
       "      <td>M</td>\n",
       "      <td>0</td>\n",
       "      <td>0</td>\n",
       "      <td>2,994,379.20</td>\n",
       "    </tr>\n",
       "    <tr>\n",
       "      <th>1196</th>\n",
       "      <td>72</td>\n",
       "      <td>1</td>\n",
       "      <td>M</td>\n",
       "      <td>69</td>\n",
       "      <td>H</td>\n",
       "      <td>3,778,424.20</td>\n",
       "    </tr>\n",
       "    <tr>\n",
       "      <th>1197</th>\n",
       "      <td>76</td>\n",
       "      <td>0</td>\n",
       "      <td>M</td>\n",
       "      <td>0</td>\n",
       "      <td>0</td>\n",
       "      <td>3,839,464.83</td>\n",
       "    </tr>\n",
       "    <tr>\n",
       "      <th>1198</th>\n",
       "      <td>77</td>\n",
       "      <td>0</td>\n",
       "      <td>H</td>\n",
       "      <td>0</td>\n",
       "      <td>0</td>\n",
       "      <td>10,827,760.94</td>\n",
       "    </tr>\n",
       "    <tr>\n",
       "      <th>1199</th>\n",
       "      <td>67</td>\n",
       "      <td>1</td>\n",
       "      <td>H</td>\n",
       "      <td>67</td>\n",
       "      <td>H</td>\n",
       "      <td>1,983,941.40</td>\n",
       "    </tr>\n",
       "  </tbody>\n",
       "</table>\n",
       "<p>1200 rows × 6 columns</p>\n",
       "</div>"
      ],
      "text/plain": [
       "      Edad  Casado Genero  Edad_pareja Sexo_pareja  Pago_mensual\n",
       "0       68       0      M            0           0  4,196,583.06\n",
       "1       67       1      H           67           H  1,983,941.40\n",
       "2       80       1      H           77           H  4,014,628.81\n",
       "3       71       1      H           85           M  5,710,179.97\n",
       "4       66       0      M            0           0  7,882,172.76\n",
       "...    ...     ...    ...          ...         ...           ...\n",
       "1195    78       0      M            0           0  2,994,379.20\n",
       "1196    72       1      M           69           H  3,778,424.20\n",
       "1197    76       0      M            0           0  3,839,464.83\n",
       "1198    77       0      H            0           0 10,827,760.94\n",
       "1199    67       1      H           67           H  1,983,941.40\n",
       "\n",
       "[1200 rows x 6 columns]"
      ]
     },
     "execution_count": 6,
     "metadata": {},
     "output_type": "execute_result"
    }
   ],
   "source": [
    "data"
   ]
  },
  {
   "cell_type": "code",
   "execution_count": 7,
   "id": "ff1a13d4-1d8e-4e37-9057-258ee22d9f8e",
   "metadata": {},
   "outputs": [],
   "source": [
    "Tmort_m=pd.read_excel('TM_mujeres.xlsx')\n",
    "Tmort_h=pd.read_excel('TM_hombres.xlsx')"
   ]
  },
  {
   "cell_type": "code",
   "execution_count": 8,
   "id": "e7675b59-8418-4f6a-84f9-8c31d6e6bae5",
   "metadata": {},
   "outputs": [],
   "source": [
    "T_hombre=TMensual(Tmort_h)\n",
    "T_mujer=TMensual(Tmort_m)"
   ]
  },
  {
   "cell_type": "code",
   "execution_count": 9,
   "id": "a453a62b-1d3b-409e-9467-dc46a8de692b",
   "metadata": {},
   "outputs": [
    {
     "data": {
      "text/html": [
       "<div>\n",
       "<style scoped>\n",
       "    .dataframe tbody tr th:only-of-type {\n",
       "        vertical-align: middle;\n",
       "    }\n",
       "\n",
       "    .dataframe tbody tr th {\n",
       "        vertical-align: top;\n",
       "    }\n",
       "\n",
       "    .dataframe thead th {\n",
       "        text-align: right;\n",
       "    }\n",
       "</style>\n",
       "<table border=\"1\" class=\"dataframe\">\n",
       "  <thead>\n",
       "    <tr style=\"text-align: right;\">\n",
       "      <th></th>\n",
       "      <th>x</th>\n",
       "      <th>l(x)</th>\n",
       "      <th>q(x)</th>\n",
       "      <th>p(x)</th>\n",
       "    </tr>\n",
       "  </thead>\n",
       "  <tbody>\n",
       "    <tr>\n",
       "      <th>0</th>\n",
       "      <td>15.00</td>\n",
       "      <td>1,000,000.00</td>\n",
       "      <td>0.00</td>\n",
       "      <td>1.00</td>\n",
       "    </tr>\n",
       "    <tr>\n",
       "      <th>1</th>\n",
       "      <td>15.08</td>\n",
       "      <td>999,959.58</td>\n",
       "      <td>0.00</td>\n",
       "      <td>1.00</td>\n",
       "    </tr>\n",
       "    <tr>\n",
       "      <th>2</th>\n",
       "      <td>15.17</td>\n",
       "      <td>999,919.17</td>\n",
       "      <td>0.00</td>\n",
       "      <td>1.00</td>\n",
       "    </tr>\n",
       "    <tr>\n",
       "      <th>3</th>\n",
       "      <td>15.25</td>\n",
       "      <td>999,878.75</td>\n",
       "      <td>0.00</td>\n",
       "      <td>1.00</td>\n",
       "    </tr>\n",
       "    <tr>\n",
       "      <th>4</th>\n",
       "      <td>15.33</td>\n",
       "      <td>999,838.33</td>\n",
       "      <td>0.00</td>\n",
       "      <td>1.00</td>\n",
       "    </tr>\n",
       "    <tr>\n",
       "      <th>...</th>\n",
       "      <td>...</td>\n",
       "      <td>...</td>\n",
       "      <td>...</td>\n",
       "      <td>...</td>\n",
       "    </tr>\n",
       "    <tr>\n",
       "      <th>1136</th>\n",
       "      <td>109.67</td>\n",
       "      <td>121.33</td>\n",
       "      <td>0.08</td>\n",
       "      <td>0.92</td>\n",
       "    </tr>\n",
       "    <tr>\n",
       "      <th>1137</th>\n",
       "      <td>109.75</td>\n",
       "      <td>111.25</td>\n",
       "      <td>0.09</td>\n",
       "      <td>0.91</td>\n",
       "    </tr>\n",
       "    <tr>\n",
       "      <th>1138</th>\n",
       "      <td>109.83</td>\n",
       "      <td>101.17</td>\n",
       "      <td>0.10</td>\n",
       "      <td>0.90</td>\n",
       "    </tr>\n",
       "    <tr>\n",
       "      <th>1139</th>\n",
       "      <td>109.92</td>\n",
       "      <td>91.08</td>\n",
       "      <td>0.11</td>\n",
       "      <td>0.89</td>\n",
       "    </tr>\n",
       "    <tr>\n",
       "      <th>1140</th>\n",
       "      <td>110.00</td>\n",
       "      <td>81.00</td>\n",
       "      <td>1.00</td>\n",
       "      <td>0.00</td>\n",
       "    </tr>\n",
       "  </tbody>\n",
       "</table>\n",
       "<p>1141 rows × 4 columns</p>\n",
       "</div>"
      ],
      "text/plain": [
       "          x         l(x)  q(x)  p(x)\n",
       "0     15.00 1,000,000.00  0.00  1.00\n",
       "1     15.08   999,959.58  0.00  1.00\n",
       "2     15.17   999,919.17  0.00  1.00\n",
       "3     15.25   999,878.75  0.00  1.00\n",
       "4     15.33   999,838.33  0.00  1.00\n",
       "...     ...          ...   ...   ...\n",
       "1136 109.67       121.33  0.08  0.92\n",
       "1137 109.75       111.25  0.09  0.91\n",
       "1138 109.83       101.17  0.10  0.90\n",
       "1139 109.92        91.08  0.11  0.89\n",
       "1140 110.00        81.00  1.00  0.00\n",
       "\n",
       "[1141 rows x 4 columns]"
      ]
     },
     "execution_count": 9,
     "metadata": {},
     "output_type": "execute_result"
    }
   ],
   "source": [
    "T_hombre"
   ]
  },
  {
   "cell_type": "code",
   "execution_count": 10,
   "id": "b689de19-7ac8-4bc8-8e1b-7a1b31339a16",
   "metadata": {},
   "outputs": [],
   "source": [
    "data['Edad_Jubilacion'] = data.apply(lambda row: 57 if row['Genero'] == 'M' else 62, axis=1)"
   ]
  },
  {
   "cell_type": "code",
   "execution_count": 11,
   "id": "542ccab5-9bb1-425f-848e-7c44898886de",
   "metadata": {},
   "outputs": [],
   "source": [
    "def pago_total(row):\n",
    "    if row['Genero'] == 'M':\n",
    "        T = tmort_filtered(T_mujer, edad_jubilacion)\n",
    "        T['n'] = T['x'].apply(lambda x: (x - edad_jubilacion) * 12)\n",
    "        T['Vn'] = np.ones(len(T)) * (1 / (1 + i))\n",
    "        T['Vn'] = T.apply(lambda x: x['Vn'] ** x['n'], axis=1)\n",
    "        sum_vect = T['p(x)'] * T['Vn']\n",
    "        suma = sum_vect.sum()\n",
    "        return suma\n",
    "    elif row['Genero'] == 'H':  # Esta yo la propuse, pero esta más eficiente la de la profesora \n",
    "        pass  "
   ]
  },
  {
   "cell_type": "code",
   "execution_count": 12,
   "id": "cdbc17b9-02c5-4950-80c9-1c731a454523",
   "metadata": {},
   "outputs": [],
   "source": [
    "valoracion_jubilado=[]\n",
    "valoracion_pareja=[]\n",
    "i=0.03/12\n",
    "for index, row in data.iterrows():\n",
    "    genero=row['Genero']\n",
    "    if genero=='H':\n",
    "        tmort=T_hombre\n",
    "    else:\n",
    "        tmort=T_mujer\n",
    "    if row['Casado']==0:\n",
    "        edad=row['Edad']\n",
    "        pago=row['Pago_mensual']\n",
    "        T=tmort_filtered(tmort,edad)\n",
    "        T['n']=T['x'].apply(lambda x: x-edad)*12\n",
    "        T['Vn']=np.ones(len(T))*(1/(1+i))\n",
    "        T['Vn']=T.apply(lambda x: x['Vn']**x['n'],axis=1)\n",
    "        sum_vect=T['p(x)']*T['Vn']* row['Pago_mensual']\n",
    "        va_jubilado=sum_vect.sum()\n",
    "        va_pareja=0\n",
    "\n",
    "        valoracion_jubilado.append(va_jubilado)\n",
    "        valoracion_pareja.append(va_pareja)\n",
    "    elif row['Casado']==1:\n",
    "        edad=row['Edad']\n",
    "        pago=row['Pago_mensual']\n",
    "        T=tmort_filtered(tmort,edad)\n",
    "        T['n']=T['x'].apply(lambda x: x-edad)*12\n",
    "        T['Vn']=np.ones(len(T))*(1/(1+i))\n",
    "        T['Vn']=T.apply(lambda x: x['Vn']**x['n'],axis=1)\n",
    "        sum_vect=T['p(x)']*T['Vn']* row['Pago_mensual']\n",
    "        va_jubilado=sum_vect.sum()        \n",
    "\n",
    "\n",
    "        edad_pareja=row['Edad_pareja']\n",
    "        genero_pareja=row['Sexo_pareja']\n",
    "\n",
    "        if edad_pareja=='H':\n",
    "            tmort_pareja=T_hombre\n",
    "        else :\n",
    "            tmort_pareja=T_mujer\n",
    "        T_par=tmort_filtered(tmort_pareja,edad_pareja)\n",
    "        T_par['n']=T_par['x'].apply(lambda x: x-edad_pareja)*12\n",
    "        T_par['Vn']=np.ones(len(T_par))*(1/(1+i))\n",
    "        T_par['Vn']=T_par.apply(lambda x: x['Vn']**x['n'],axis=1)\n",
    "\n",
    "        if edad<= edad_pareja:\n",
    "            T_par['q(x)_Jub']= T['q(x)'][:len(T_par)]\n",
    "        else:\n",
    "            lista=[]\n",
    "            gap=(edad-edad_pareja)*12\n",
    "            lista=list(T['q(x)'])+list(np.ones(gap))\n",
    "            T_par['q(x)_Jub']=lista\n",
    "        sum_vect_pareja=pago*T_par['Vn']*T_par['p(x)']*T_par['q(x)_Jub']\n",
    "        va_pareja=sum_vect_pareja.sum()\n",
    "\n",
    "        valoracion_jubilado.append(va_jubilado)\n",
    "        valoracion_pareja.append(va_pareja)            \n",
    "        \n",
    "\n",
    "        \n",
    "data['Valoracion Jubilado']=valoracion_jubilado\n",
    "data['Valoracion Pareja']=valoracion_pareja\n",
    "data['Valoracion']=data['Valoracion Pareja']+data['Valoracion Jubilado']\n",
    "\n"
   ]
  },
  {
   "cell_type": "code",
   "execution_count": 13,
   "id": "33057e26-ceec-4b4f-a136-e0c3b0996607",
   "metadata": {},
   "outputs": [
    {
     "data": {
      "text/html": [
       "<div>\n",
       "<style scoped>\n",
       "    .dataframe tbody tr th:only-of-type {\n",
       "        vertical-align: middle;\n",
       "    }\n",
       "\n",
       "    .dataframe tbody tr th {\n",
       "        vertical-align: top;\n",
       "    }\n",
       "\n",
       "    .dataframe thead th {\n",
       "        text-align: right;\n",
       "    }\n",
       "</style>\n",
       "<table border=\"1\" class=\"dataframe\">\n",
       "  <thead>\n",
       "    <tr style=\"text-align: right;\">\n",
       "      <th></th>\n",
       "      <th>Edad</th>\n",
       "      <th>Casado</th>\n",
       "      <th>Genero</th>\n",
       "      <th>Edad_pareja</th>\n",
       "      <th>Sexo_pareja</th>\n",
       "      <th>Pago_mensual</th>\n",
       "      <th>Edad_Jubilacion</th>\n",
       "      <th>Valoracion Jubilado</th>\n",
       "      <th>Valoracion Pareja</th>\n",
       "      <th>Valoracion</th>\n",
       "    </tr>\n",
       "  </thead>\n",
       "  <tbody>\n",
       "    <tr>\n",
       "      <th>0</th>\n",
       "      <td>68</td>\n",
       "      <td>0</td>\n",
       "      <td>M</td>\n",
       "      <td>0</td>\n",
       "      <td>0</td>\n",
       "      <td>4,196,583.06</td>\n",
       "      <td>57</td>\n",
       "      <td>1,191,636,947.16</td>\n",
       "      <td>0.00</td>\n",
       "      <td>1,191,636,947.16</td>\n",
       "    </tr>\n",
       "    <tr>\n",
       "      <th>1</th>\n",
       "      <td>67</td>\n",
       "      <td>1</td>\n",
       "      <td>H</td>\n",
       "      <td>67</td>\n",
       "      <td>H</td>\n",
       "      <td>1,983,941.40</td>\n",
       "      <td>62</td>\n",
       "      <td>569,290,753.87</td>\n",
       "      <td>6,703,106.05</td>\n",
       "      <td>575,993,859.92</td>\n",
       "    </tr>\n",
       "    <tr>\n",
       "      <th>2</th>\n",
       "      <td>80</td>\n",
       "      <td>1</td>\n",
       "      <td>H</td>\n",
       "      <td>77</td>\n",
       "      <td>H</td>\n",
       "      <td>4,014,628.81</td>\n",
       "      <td>62</td>\n",
       "      <td>935,788,715.56</td>\n",
       "      <td>70,988,315.40</td>\n",
       "      <td>1,006,777,030.97</td>\n",
       "    </tr>\n",
       "    <tr>\n",
       "      <th>3</th>\n",
       "      <td>71</td>\n",
       "      <td>1</td>\n",
       "      <td>H</td>\n",
       "      <td>85</td>\n",
       "      <td>M</td>\n",
       "      <td>5,710,179.97</td>\n",
       "      <td>62</td>\n",
       "      <td>1,556,057,693.93</td>\n",
       "      <td>7,372,420.54</td>\n",
       "      <td>1,563,430,114.48</td>\n",
       "    </tr>\n",
       "    <tr>\n",
       "      <th>4</th>\n",
       "      <td>66</td>\n",
       "      <td>0</td>\n",
       "      <td>M</td>\n",
       "      <td>0</td>\n",
       "      <td>0</td>\n",
       "      <td>7,882,172.76</td>\n",
       "      <td>57</td>\n",
       "      <td>2,291,714,335.45</td>\n",
       "      <td>0.00</td>\n",
       "      <td>2,291,714,335.45</td>\n",
       "    </tr>\n",
       "  </tbody>\n",
       "</table>\n",
       "</div>"
      ],
      "text/plain": [
       "   Edad  Casado Genero  Edad_pareja Sexo_pareja  Pago_mensual  \\\n",
       "0    68       0      M            0           0  4,196,583.06   \n",
       "1    67       1      H           67           H  1,983,941.40   \n",
       "2    80       1      H           77           H  4,014,628.81   \n",
       "3    71       1      H           85           M  5,710,179.97   \n",
       "4    66       0      M            0           0  7,882,172.76   \n",
       "\n",
       "   Edad_Jubilacion  Valoracion Jubilado  Valoracion Pareja       Valoracion  \n",
       "0               57     1,191,636,947.16               0.00 1,191,636,947.16  \n",
       "1               62       569,290,753.87       6,703,106.05   575,993,859.92  \n",
       "2               62       935,788,715.56      70,988,315.40 1,006,777,030.97  \n",
       "3               62     1,556,057,693.93       7,372,420.54 1,563,430,114.48  \n",
       "4               57     2,291,714,335.45               0.00 2,291,714,335.45  "
      ]
     },
     "execution_count": 13,
     "metadata": {},
     "output_type": "execute_result"
    }
   ],
   "source": [
    "data.head()"
   ]
  },
  {
   "cell_type": "code",
   "execution_count": 14,
   "id": "a5adbc98-b19c-4340-aabd-2711c2ffd6c3",
   "metadata": {},
   "outputs": [],
   "source": [
    "shape, loc, scale =stats.gamma.fit(data['Valoracion'])"
   ]
  },
  {
   "cell_type": "code",
   "execution_count": 15,
   "id": "8a49bed5-f252-4b4a-aaf5-252574f4431b",
   "metadata": {},
   "outputs": [
    {
     "data": {
      "text/plain": [
       "2.8047041420602175"
      ]
     },
     "execution_count": 15,
     "metadata": {},
     "output_type": "execute_result"
    }
   ],
   "source": [
    "shape"
   ]
  },
  {
   "cell_type": "code",
   "execution_count": 16,
   "id": "0b048c04-2732-456d-8f20-8681a9e9717c",
   "metadata": {},
   "outputs": [
    {
     "data": {
      "text/plain": [
       "569699794.1532562"
      ]
     },
     "execution_count": 16,
     "metadata": {},
     "output_type": "execute_result"
    }
   ],
   "source": [
    "scale"
   ]
  },
  {
   "cell_type": "code",
   "execution_count": 17,
   "id": "1a815b79-999b-4d42-bb89-2372a5a92d58",
   "metadata": {},
   "outputs": [],
   "source": [
    "shape=2.87\n",
    "scale=4796640997\n"
   ]
  },
  {
   "cell_type": "code",
   "execution_count": 363,
   "id": "c60041fe-c97b-4305-8630-70cbc91a99d5",
   "metadata": {},
   "outputs": [],
   "source": [
    "df_sim=pd.DataFrame()\n",
    "df_sim['key']=list(data.index)\n",
    "df_sim['Valoracion']=list(data.Valoracion)\n",
    "\n",
    "d=0.5\n",
    "df_sim['Pago_hoy']=(d)*df_sim['Valoracion']\n",
    "sim=500\n",
    "p=0.62\n",
    "\n",
    "for i in range(sim):\n",
    "    samples=np.random.binomial(1,p, len(df_sim))\n",
    "    df_sim['sim_'+str(i)]=samples\n",
    "    df_sim['sim_'+str(i)]=df_sim.apply(lambda row: row['Pago_hoy'] if row['sim_'+str(i)]==1 else row['Valoracion'], axis=1)"
   ]
  },
  {
   "cell_type": "code",
   "execution_count": 364,
   "id": "54c57b6b-74ff-4427-acb1-f4c50f714d0a",
   "metadata": {},
   "outputs": [],
   "source": [
    "#Ahorro final al 95% de confianza\n",
    "cols=[col for col in df_sim.columns if 'sim' in col]\n",
    "resp=df_sim[cols].sum()"
   ]
  },
  {
   "cell_type": "code",
   "execution_count": 365,
   "id": "207397e6",
   "metadata": {},
   "outputs": [
    {
     "data": {
      "image/png": "[encoded data removed]",
      "text/plain": [
       "<Figure size 640x480 with 1 Axes>"
      ]
     },
     "metadata": {},
     "output_type": "display_data"
    }
   ],
   "source": [
    "#Graficar el histograma\n",
    "\n",
    "plt.hist(resp,bins=30, density=True, alpha=0.6,color='r',label='Datos')\n",
    "\n",
    "plt.title(f'Distribución del coste')\n",
    "plt.xlabel('Valor')\n",
    "plt.ylabel('Densidad')\n",
    "plt.legend()\n",
    "plt.show()"
   ]
  },
  {
   "cell_type": "markdown",
   "id": "5a30b1b0-6814-4799-94c2-0791f9a9a54e",
   "metadata": {},
   "source": [
    "##### Como el banco quiere ganar un 30%, el objetivo es igual al total por 0.3.Además el p inicial 0.3 no es el adecuado para cumplir dicho objetivo por lo que se debe modificar."
   ]
  },
  {
   "cell_type": "code",
   "execution_count": 367,
   "id": "b70d4725-f372-4adf-a72c-b98dbb7fd6ee",
   "metadata": {},
   "outputs": [],
   "source": [
    "total= data['Valoracion'].sum()\n",
    "objetivo=total*0.3"
   ]
  },
  {
   "cell_type": "code",
   "execution_count": 368,
   "id": "9240fe88-4b8e-49ff-bf55-ded1d3196c05",
   "metadata": {},
   "outputs": [
    {
     "data": {
      "text/plain": [
       "590869962987.0298"
      ]
     },
     "execution_count": 368,
     "metadata": {},
     "output_type": "execute_result"
    }
   ],
   "source": [
    "cuantil_95 = np.percentile(resp, 89)\n",
    "ahorro = total-cuantil_95\n",
    "ahorro"
   ]
  },
  {
   "cell_type": "code",
   "execution_count": 369,
   "id": "8a1add83-6c41-4c77-bcb0-726b4de24306",
   "metadata": {},
   "outputs": [
    {
     "name": "stdout",
     "output_type": "stream",
     "text": [
      "El ahorro esperado es de: 590869962987.03\n"
     ]
    }
   ],
   "source": [
    "print(f\"El ahorro esperado es de: {ahorro:.2f}\")"
   ]
  },
  {
   "cell_type": "code",
   "execution_count": 370,
   "id": "916e7041-ed0a-4744-a370-80ccab857f15",
   "metadata": {},
   "outputs": [
    {
     "data": {
      "text/plain": [
       "1374522972534.519"
      ]
     },
     "execution_count": 370,
     "metadata": {},
     "output_type": "execute_result"
    }
   ],
   "source": [
    "cuantil_95"
   ]
  },
  {
   "cell_type": "code",
   "execution_count": 371,
   "id": "f48e5167-eeca-4300-b50a-bf32b50d6dfc",
   "metadata": {},
   "outputs": [
    {
     "data": {
      "text/plain": [
       "589617880656.4646"
      ]
     },
     "execution_count": 371,
     "metadata": {},
     "output_type": "execute_result"
    }
   ],
   "source": [
    "objetivo"
   ]
  },
  {
   "cell_type": "code",
   "execution_count": 372,
   "id": "6cd11ad6-e08f-46e6-81b7-60f42b8bfef1",
   "metadata": {},
   "outputs": [
    {
     "data": {
      "text/plain": [
       "1965392935521.5488"
      ]
     },
     "execution_count": 372,
     "metadata": {},
     "output_type": "execute_result"
    }
   ],
   "source": [
    "total"
   ]
  },
  {
   "cell_type": "code",
   "execution_count": 350,
   "id": "83f5ba68-8cc7-4333-ab96-eed605970685",
   "metadata": {},
   "outputs": [
    {
     "data": {
      "text/plain": [
       "False"
      ]
     },
     "execution_count": 350,
     "metadata": {},
     "output_type": "execute_result"
    }
   ],
   "source": [
    "ahorro>=objetivo"
   ]
  },
  {
   "cell_type": "markdown",
   "id": "dc8be414-9e62-4a5d-81e4-8574ac170eab",
   "metadata": {},
   "source": [
    "##### Al hacer pruebas con d=0.7 se evidencio que el factor de descuenta era muy alto y no permitiá lograr alguna ganancia del 30%. Por lo tanto, se toma d=0.5 y se dertermina p"
   ]
  },
  {
   "cell_type": "code",
   "execution_count": 373,
   "id": "510bb632-3c9d-431f-9907-d9a38350200b",
   "metadata": {},
   "outputs": [
    {
     "data": {
      "text/plain": [
       "array([0.6])"
      ]
     },
     "execution_count": 373,
     "metadata": {},
     "output_type": "execute_result"
    }
   ],
   "source": [
    "p = objetivo / [(1-0.5)*total]\n",
    "p"
   ]
  },
  {
   "cell_type": "markdown",
   "id": "c3feaa16-d382-4896-8704-230f94640399",
   "metadata": {},
   "source": [
    "##### De esta manera el P minímo para que el banco obtenga una ganancia es de 0.62, considerando un percentil del 89.\n",
    "\n",
    "Con P = 0.62 y un percentil del 89, el banco puede garantizar que, en promedio, su flujo de pagos le genere una ganancia positiva."
   ]
  },
  {
   "cell_type": "code",
   "execution_count": null,
   "id": "f8e21c65-a86c-4c25-a9ec-b279c525d990",
   "metadata": {},
   "outputs": [],
   "source": []
  }
 ],
 "metadata": {
  "kernelspec": {
   "display_name": "Python [conda env:base] *",
   "language": "python",
   "name": "conda-base-py"
  },
  "language_info": {
   "codemirror_mode": {
    "name": "ipython",
    "version": 3
   },
   "file_extension": ".py",
   "mimetype": "text/x-python",
   "name": "python",
   "nbconvert_exporter": "python",
   "pygments_lexer": "ipython3",
   "version": "3.12.7"
  }
 },
 "nbformat": 4,
 "nbformat_minor": 5
}
