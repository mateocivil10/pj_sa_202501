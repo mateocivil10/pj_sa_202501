{
  "nbformat": 4,
  "nbformat_minor": 0,
  "metadata": {
    "colab": {
      "provenance": []
    },
    "kernelspec": {
      "name": "python3",
      "display_name": "Python 3"
    },
    "language_info": {
      "name": "python"
    }
  },
  "cells": [
    {
      "cell_type": "code",
      "execution_count": 4,
      "metadata": {
        "id": "54ZqqGEBPf3g"
      },
      "outputs": [],
      "source": [
        "import pandas as pd\n",
        "import numpy as np\n",
        "from scipy.interpolate import interp1d"
      ]
    },
    {
      "cell_type": "code",
      "source": [
        "def TMensual(Tmort):\n",
        "   \"\"\"\n",
        "   Interpola los valores de l(x) en pasos de 1/12 (mensual) y calcula q(x) y p(x).\n",
        "   Parameters:\n",
        "   Tmort (DataFrame): DataFrame que contiene las columnas 'x' y 'l(x)'.\n",
        "   Returns:\n",
        "   DataFrame: DataFrame con valores interpolados de x, l(x), q(x) y p(x).\n",
        "   \"\"\"\n",
        "   # Aseguramos que Tmort tiene las columnas adecuadas\n",
        "   if 'x' not in Tmort.columns or 'l(x)' not in Tmort.columns:\n",
        "       raise ValueError(\"El DataFrame debe contener las columnas 'x' y 'l(x)'\")\n",
        "   # Obtener los valores de x y l(x)\n",
        "   x_values = Tmort['x'].values\n",
        "   lx_values = Tmort['l(x)'].values\n",
        "   # Crear una función de interpolación\n",
        "   interp_function = interp1d(x_values, lx_values, kind='linear', fill_value='extrapolate')\n",
        "   # Crear los nuevos valores de x con un paso de 1/12, hasta 110 (incluyendo 110)\n",
        "   new_x = np.arange(x_values[0], 110 + 1/12, 1/12)  # Incrementos mensuales hasta 110\n",
        "   # Calcular los valores de l(x) interpolados\n",
        "   new_lx = interp_function(new_x)\n",
        "   # Inicializar los arrays para q(x) y p(x)\n",
        "   qx_values = np.zeros(len(new_x) - 1)  # Inicializar el array para q(x)\n",
        "   px_values = np.zeros(len(new_x) - 1)  # Inicializar el array para p(x)\n",
        "   # Calcular q(x) y p(x) para cada nuevo valor de x\n",
        "   for i in range(len(new_x)-1):\n",
        "       if new_lx[i] > 0:  # Evitar división por cero\n",
        "           qx_values[i] = 1 - (new_lx[i + 1] / new_lx[i])  # q(x) = 1 - l(x + 1/12) / l(x)\n",
        "       else:\n",
        "           qx_values[i] = 0  # Si l(x) es 0, q(x) también debe ser 0\n",
        "       px_values[i] = 1 - qx_values[i]  # p(x) = 1 - q(x)\n",
        "\n",
        "   # Crear un nuevo DataFrame con los valores interpolados y calculados\n",
        "   interpolated_df = pd.DataFrame({\n",
        "       'x': new_x,  # Incluir hasta 110\n",
        "       'l(x)': new_lx,  # Excluir el último por la misma razón\n",
        "       'q(x)': np.append(qx_values, 1),  # Añadir el valor de q(110)\n",
        "       'p(x)': np.append(px_values, 0)  # Añadir el valor de p(110)\n",
        "   })\n",
        "   return interpolated_df\n",
        "def tmort_filtered(df,edad):\n",
        "   qx_vec=df[df['x']>=edad]\n",
        "   return qx_vec"
      ],
      "metadata": {
        "id": "V7FxC5NMP0Bi"
      },
      "execution_count": 6,
      "outputs": []
    }
  ]
}