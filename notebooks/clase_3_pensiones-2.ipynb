{
 "cells": [
  {
   "cell_type": "code",
   "execution_count": 1,
   "id": "bd758ab9-3db7-4c24-abcb-37a2bef7c96d",
   "metadata": {},
   "outputs": [],
   "source": [
    "import pandas as pd\n",
    "import os\n",
    "import numpy as np\n",
    "import sys\n",
    "from scipy.interpolate import interp1d"
   ]
  },
  {
   "cell_type": "code",
   "execution_count": 2,
   "id": "581dd301-c033-4f94-9ff8-a1d56351cbf9",
   "metadata": {},
   "outputs": [],
   "source": [
    "os.chdir('/Users/juansierra/Downloads')"
   ]
  },
  {
   "cell_type": "code",
   "execution_count": 3,
   "id": "9ae0ce4f-5b5a-4338-a12c-71527dcf03e0",
   "metadata": {},
   "outputs": [],
   "source": [
    "def vf_cte(pago, n, i,valor_inicial):\n",
    "\n",
    "  pagos = np.ones(n) * pago + np.concatenate(([valor_inicial], np.zeros(n-1)))    \n",
    "  print(pagos.sum())\n",
    "  cao_factor = np.ones(n) * (1 + i) ** np.arange(n,0,-1)\n",
    "  resp_vector = pagos * cao_factor\n",
    "  resp = resp_vector.sum() \n",
    "  return resp\n",
    "\n",
    "def TMensual(Tmort):\n",
    "    \"\"\"\n",
    "    Interpola los valores de l(x) en pasos de 1/12 (mensual) y calcula q(x) y p(x).\n",
    "    \n",
    "    Parameters:\n",
    "    Tmort (DataFrame): DataFrame que contiene las columnas 'x' y 'l(x)'.\n",
    "    \n",
    "    Returns:\n",
    "    DataFrame: DataFrame con valores interpolados de x, l(x), q(x) y p(x).\n",
    "    \"\"\"\n",
    "    \n",
    "    # Aseguramos que Tmort tiene las columnas adecuadas\n",
    "    if 'x' not in Tmort.columns or 'l(x)' not in Tmort.columns:\n",
    "        raise ValueError(\"El DataFrame debe contener las columnas 'x' y 'l(x)'\")\n",
    "    \n",
    "    # Obtener los valores de x y l(x)\n",
    "    x_values = Tmort['x'].values\n",
    "    lx_values = Tmort['l(x)'].values\n",
    "    \n",
    "    # Crear una función de interpolación\n",
    "    interp_function = interp1d(x_values, lx_values, kind='linear', fill_value='extrapolate')\n",
    "    \n",
    "    # Crear los nuevos valores de x con un paso de 1/12, hasta 110 (incluyendo 110)\n",
    "    new_x = np.arange(x_values[0], 110 + 1/12, 1/12)  # Incrementos mensuales hasta 110\n",
    "    \n",
    "    # Calcular los valores de l(x) interpolados\n",
    "    new_lx = interp_function(new_x)\n",
    "    \n",
    "    # Inicializar los arrays para q(x) y p(x)\n",
    "    qx_values = np.zeros(len(new_x) - 1)  # Inicializar el array para q(x)\n",
    "    px_values = np.zeros(len(new_x) - 1)  # Inicializar el array para p(x)\n",
    "\n",
    "    # Calcular q(x) y p(x) para cada nuevo valor de x\n",
    "    for i in range(len(new_x)-1):\n",
    "        if new_lx[i] > 0:  # Evitar división por cero\n",
    "            qx_values[i] = 1 - (new_lx[i + 1] / new_lx[i])  # q(x) = 1 - l(x + 1/12) / l(x)\n",
    "        else:\n",
    "            qx_values[i] = 0  # Si l(x) es 0, q(x) también debe ser 0\n",
    "\n",
    "        px_values[i] = 1 - qx_values[i]  # p(x) = 1 - q(x)\n",
    "\n",
    "\n",
    "    # Crear un nuevo DataFrame con los valores interpolados y calculados\n",
    "    interpolated_df = pd.DataFrame({\n",
    "        'x': new_x,  # Incluir hasta 110\n",
    "        'l(x)': new_lx,  # Excluir el último por la misma razón\n",
    "        'q(x)': np.append(qx_values, 1),  # Añadir el valor de q(110)\n",
    "        'p(x)': np.append(px_values, 0)  # Añadir el valor de p(110)\n",
    "    })\n",
    "    \n",
    "    return interpolated_df\n",
    "\n",
    "def tmort_filtered(df,edad):\n",
    "    qx_vec=df[df['x']>=edad]\n",
    "    return qx_vec"
   ]
  },
  {
   "cell_type": "code",
   "execution_count": 21,
   "id": "819fe095-9f3b-4399-9278-63d980c44c3a",
   "metadata": {},
   "outputs": [],
   "source": [
    "# Información del Trabajador\n",
    "edad_actual = 30  # Edad actual del trabajador\n",
    "genero = 'H'  # Género del trabajador (H: Hombre)\n",
    "\n",
    "# Parámetros Financieros\n",
    "tasa_contribucion = 0.04  # Tasa de contribución mensual\n",
    "salario_base = 7_000_000  # Salario base mensual\n",
    "edad_jubilacion = 62  # Edad esperada de jubilación\n",
    "\n",
    "# Parámetros de Inversión\n",
    "tasa_anual_rendimiento = 0.04  # Tasa anual de rendimiento de inversiones"
   ]
  },
  {
   "cell_type": "code",
   "execution_count": 23,
   "id": "304466be-e767-4064-b775-a2aec35cdef8",
   "metadata": {},
   "outputs": [
    {
     "name": "stdout",
     "output_type": "stream",
     "text": [
      "430080000.0\n",
      "Valor Futuro: 872800998.1122966\n",
      "Total Contribuciones: 430080000.0\n"
     ]
    }
   ],
   "source": [
    "# Cálculo de Pago Mensual\n",
    "# Asume una contribución del 16% del salario base\n",
    "pago_mensual = salario_base * 0.16\n",
    "\n",
    "# Cálculo del Número de Meses hasta la Jubilación\n",
    "# Multiplica por 12 para convertir años a meses\n",
    "numero_meses = (edad_jubilacion - edad_actual) * 12\n",
    "\n",
    "# Cálculo de la Tasa de Interés Mensual\n",
    "# Divide la tasa anual por 12 para obtener la tasa mensual\n",
    "tasa_interes_mensual = tasa_anual_rendimiento / 12\n",
    "\n",
    "# Valor inicial de inversión (generalmente 0 al comenzar)\n",
    "valor_inicial = 0\n",
    "\n",
    "# Calcula el valor futuro de las contribuciones\n",
    "valor_futuro = vf_cte(pago_mensual, numero_meses, tasa_interes_mensual, valor_inicial)\n",
    "\n",
    "# Impresión de Resultados\n",
    "print(\"Valor Futuro:\", valor_futuro)\n",
    "print(\"Total Contribuciones:\", numero_meses * pago_mensual)"
   ]
  },
  {
   "cell_type": "code",
   "execution_count": 24,
   "id": "006869eb-544f-408e-9238-0ed15f622c24",
   "metadata": {},
   "outputs": [],
   "source": [
    "tabla_mortalidad_mujeres = pd.read_excel('TM_mujeres.xlsx')\n",
    "\n",
    "tabla_mortalidad_hombres = pd.read_excel('TM_hombres.xlsx')"
   ]
  },
  {
   "cell_type": "code",
   "execution_count": 25,
   "id": "6355d214-15b1-4354-9a1c-93ffb6acfaf5",
   "metadata": {},
   "outputs": [],
   "source": [
    "tabla_mortalidad_mensual_hombres = TMensual(tabla_mortalidad_hombres)\n",
    "\n",
    "tabla_mortalidad_mensual_mujeres = TMensual(tabla_mortalidad_mujeres)"
   ]
  },
  {
   "cell_type": "code",
   "execution_count": 26,
   "id": "ef4e173b-a6b6-451f-8646-7d23a12ce1ec",
   "metadata": {},
   "outputs": [
    {
     "name": "stdout",
     "output_type": "stream",
     "text": [
      "            x            l(x)      q(x)      p(x)\n",
      "0   15.000000  1000000.000000  0.000040  0.999960\n",
      "1   15.083333   999959.583333  0.000040  0.999960\n",
      "2   15.166667   999919.166667  0.000040  0.999960\n",
      "3   15.250000   999878.750000  0.000040  0.999960\n",
      "4   15.333333   999838.333333  0.000040  0.999960\n",
      "5   15.416667   999797.916667  0.000040  0.999960\n",
      "6   15.500000   999757.500000  0.000040  0.999960\n",
      "7   15.583333   999717.083333  0.000040  0.999960\n",
      "8   15.666667   999676.666667  0.000040  0.999960\n",
      "9   15.750000   999636.250000  0.000040  0.999960\n",
      "10  15.833333   999595.833333  0.000040  0.999960\n",
      "11  15.916667   999555.416667  0.000040  0.999960\n",
      "12  16.000000   999515.000000  0.000041  0.999959\n",
      "13  16.083333   999473.666667  0.000041  0.999959\n",
      "14  16.166667   999432.333333  0.000041  0.999959\n"
     ]
    }
   ],
   "source": [
    "print(tabla_mortalidad_mensual_hombres.head(15))"
   ]
  },
  {
   "cell_type": "code",
   "execution_count": 27,
   "id": "88ca5791-e327-469a-9902-e14901c7732c",
   "metadata": {},
   "outputs": [
    {
     "name": "stdout",
     "output_type": "stream",
     "text": [
      "             x           l(x)      q(x)      p(x)\n",
      "564  62.000000  897019.000000  0.000766  0.999234\n",
      "565  62.083333  896331.500000  0.000767  0.999233\n",
      "566  62.166667  895644.000000  0.000768  0.999232\n",
      "567  62.250000  894956.500000  0.000768  0.999232\n",
      "568  62.333333  894269.000000  0.000769  0.999231\n",
      "569  62.416667  893581.500000  0.000769  0.999231\n",
      "570  62.500000  892894.000000  0.000770  0.999230\n",
      "571  62.583333  892206.500000  0.000771  0.999229\n",
      "572  62.666667  891519.000000  0.000771  0.999229\n",
      "573  62.750000  890831.500000  0.000772  0.999228\n",
      "574  62.833333  890144.000000  0.000772  0.999228\n",
      "575  62.916667  889456.500000  0.000773  0.999227\n",
      "576  63.000000  888769.000000  0.000856  0.999144\n",
      "577  63.083333  888007.833333  0.000857  0.999143\n",
      "578  63.166667  887246.666667  0.000858  0.999142\n"
     ]
    }
   ],
   "source": [
    "tabla_filtrada = tmort_filtered(tabla_mortalidad_mensual_hombres, edad_jubilacion)\n",
    "print(tabla_filtrada.head(15))"
   ]
  },
  {
   "cell_type": "code",
   "execution_count": 28,
   "id": "58a0e1f2-a912-4919-aa34-a78c77661219",
   "metadata": {},
   "outputs": [
    {
     "name": "stdout",
     "output_type": "stream",
     "text": [
      "               x           l(x)      q(x)      p(x)             n\n",
      "564    62.000000  897019.000000  0.000766  0.999234  4.007461e-12\n",
      "565    62.083333  896331.500000  0.000767  0.999233  1.000000e+00\n",
      "566    62.166667  895644.000000  0.000768  0.999232  2.000000e+00\n",
      "567    62.250000  894956.500000  0.000768  0.999232  3.000000e+00\n",
      "568    62.333333  894269.000000  0.000769  0.999231  4.000000e+00\n",
      "...          ...            ...       ...       ...           ...\n",
      "1136  109.666667     121.333333  0.083104  0.916896  5.720000e+02\n",
      "1137  109.750000     111.250000  0.090637  0.909363  5.730000e+02\n",
      "1138  109.833333     101.166667  0.099671  0.900329  5.740000e+02\n",
      "1139  109.916667      91.083333  0.110704  0.889296  5.750000e+02\n",
      "1140  110.000000      81.000000  1.000000  0.000000  5.760000e+02\n",
      "\n",
      "[577 rows x 5 columns]\n"
     ]
    },
    {
     "name": "stderr",
     "output_type": "stream",
     "text": [
      "/var/folders/jn/6s4fnp_x27qcfq657s92n39m0000gn/T/ipykernel_1247/1394774574.py:1: SettingWithCopyWarning: \n",
      "A value is trying to be set on a copy of a slice from a DataFrame.\n",
      "Try using .loc[row_indexer,col_indexer] = value instead\n",
      "\n",
      "See the caveats in the documentation: https://pandas.pydata.org/pandas-docs/stable/user_guide/indexing.html#returning-a-view-versus-a-copy\n",
      "  tabla_filtrada['n'] = tabla_filtrada['x'].apply(lambda x: (x - edad_jubilacion) * 12)\n"
     ]
    }
   ],
   "source": [
    "tabla_filtrada['n'] = tabla_filtrada['x'].apply(lambda x: (x - edad_jubilacion) * 12)\n",
    "print(tabla_filtrada)"
   ]
  },
  {
   "cell_type": "code",
   "execution_count": 29,
   "id": "1e92f1db-a826-40ad-a4c0-1cc771e3fcf4",
   "metadata": {},
   "outputs": [
    {
     "name": "stdout",
     "output_type": "stream",
     "text": [
      "               x           l(x)      q(x)      p(x)             n        Vn\n",
      "564    62.000000  897019.000000  0.000766  0.999234  4.007461e-12  1.000000\n",
      "565    62.083333  896331.500000  0.000767  0.999233  1.000000e+00  0.996678\n",
      "566    62.166667  895644.000000  0.000768  0.999232  2.000000e+00  0.993367\n",
      "567    62.250000  894956.500000  0.000768  0.999232  3.000000e+00  0.990066\n",
      "568    62.333333  894269.000000  0.000769  0.999231  4.000000e+00  0.986777\n",
      "...          ...            ...       ...       ...           ...       ...\n",
      "1136  109.666667     121.333333  0.083104  0.916896  5.720000e+02  0.149047\n",
      "1137  109.750000     111.250000  0.090637  0.909363  5.730000e+02  0.148551\n",
      "1138  109.833333     101.166667  0.099671  0.900329  5.740000e+02  0.148058\n",
      "1139  109.916667      91.083333  0.110704  0.889296  5.750000e+02  0.147566\n",
      "1140  110.000000      81.000000  1.000000  0.000000  5.760000e+02  0.147076\n",
      "\n",
      "[577 rows x 6 columns]\n"
     ]
    },
    {
     "name": "stderr",
     "output_type": "stream",
     "text": [
      "/var/folders/jn/6s4fnp_x27qcfq657s92n39m0000gn/T/ipykernel_1247/2506411797.py:2: SettingWithCopyWarning: \n",
      "A value is trying to be set on a copy of a slice from a DataFrame.\n",
      "Try using .loc[row_indexer,col_indexer] = value instead\n",
      "\n",
      "See the caveats in the documentation: https://pandas.pydata.org/pandas-docs/stable/user_guide/indexing.html#returning-a-view-versus-a-copy\n",
      "  tabla_filtrada['Vn'] = np.ones(len(tabla_filtrada)) * (1 / (1 + tasa_interes_mensual))\n",
      "/var/folders/jn/6s4fnp_x27qcfq657s92n39m0000gn/T/ipykernel_1247/2506411797.py:6: SettingWithCopyWarning: \n",
      "A value is trying to be set on a copy of a slice from a DataFrame.\n",
      "Try using .loc[row_indexer,col_indexer] = value instead\n",
      "\n",
      "See the caveats in the documentation: https://pandas.pydata.org/pandas-docs/stable/user_guide/indexing.html#returning-a-view-versus-a-copy\n",
      "  tabla_filtrada['Vn'] = tabla_filtrada.apply(lambda x: x['Vn'] ** x['n'], axis=1)\n"
     ]
    }
   ],
   "source": [
    "# 1/(1+i) es el factor de descuento por período\n",
    "tabla_filtrada['Vn'] = np.ones(len(tabla_filtrada)) * (1 / (1 + tasa_interes_mensual))\n",
    "\n",
    "# Calcular el factor de descuento acumulado\n",
    "# Eleva el factor base a la potencia de 'n' (meses)\n",
    "tabla_filtrada['Vn'] = tabla_filtrada.apply(lambda x: x['Vn'] ** x['n'], axis=1)\n",
    "\n",
    "print(tabla_filtrada)"
   ]
  },
  {
   "cell_type": "code",
   "execution_count": 30,
   "id": "83023fd2-59e5-481c-b5bd-70f25fd51355",
   "metadata": {},
   "outputs": [
    {
     "name": "stdout",
     "output_type": "stream",
     "text": [
      "Suma total ponderada: 254.5545084058316\n"
     ]
    }
   ],
   "source": [
    "# Multiplica la probabilidad de supervivencia 'p(x)' por el factor de descuento 'Vn'\n",
    "suma_ponderada_vector = tabla_filtrada['p(x)'] * tabla_filtrada['Vn']\n",
    "\n",
    "# Calcular la suma total de este vector\n",
    "suma_total = suma_ponderada_vector.sum()\n",
    "\n",
    "# Convertir a float para asegurar precisión numérica\n",
    "suma_total = float(suma_total)\n",
    "\n",
    "print(\"Suma total ponderada:\", suma_total)"
   ]
  },
  {
   "cell_type": "code",
   "execution_count": 33,
   "id": "7d9a74ed-73bb-41a4-8282-39502a2e4a29",
   "metadata": {},
   "outputs": [
    {
     "name": "stdout",
     "output_type": "stream",
     "text": [
      "3428739.1080923458\n"
     ]
    }
   ],
   "source": [
    "resultado_vf_suma = valor_futuro / suma_total\n",
    "print(resultado_vf_suma)"
   ]
  },
  {
   "cell_type": "code",
   "execution_count": 34,
   "id": "31dffc0d-0fb0-4bdb-92bf-4f533db9da57",
   "metadata": {},
   "outputs": [
    {
     "data": {
      "text/plain": [
       "21.166666666666668"
      ]
     },
     "execution_count": 34,
     "metadata": {},
     "output_type": "execute_result"
    }
   ],
   "source": [
    "254/12"
   ]
  },
  {
   "cell_type": "markdown",
   "id": "49e35edd-cf3a-409f-b00e-89baa936374e",
   "metadata": {},
   "source": [
    "### Ejercicio mujeres"
   ]
  },
  {
   "cell_type": "code",
   "execution_count": 36,
   "id": "26aac88f-b902-4b46-b59b-36dbba559c62",
   "metadata": {},
   "outputs": [
    {
     "name": "stdout",
     "output_type": "stream",
     "text": [
      "362880000.0\n",
      "Valor Futuro de Contribuciones: 653809052.6404626\n",
      "Total de Contribuciones: 362880000.0\n",
      "Suma Total: 263.2164186769155\n"
     ]
    },
    {
     "name": "stderr",
     "output_type": "stream",
     "text": [
      "/var/folders/jn/6s4fnp_x27qcfq657s92n39m0000gn/T/ipykernel_1247/4033712413.py:31: SettingWithCopyWarning: \n",
      "A value is trying to be set on a copy of a slice from a DataFrame.\n",
      "Try using .loc[row_indexer,col_indexer] = value instead\n",
      "\n",
      "See the caveats in the documentation: https://pandas.pydata.org/pandas-docs/stable/user_guide/indexing.html#returning-a-view-versus-a-copy\n",
      "  T['n'] = T['x'].apply(lambda x: (x - edad_jubilacion) * 12)\n",
      "/var/folders/jn/6s4fnp_x27qcfq657s92n39m0000gn/T/ipykernel_1247/4033712413.py:34: SettingWithCopyWarning: \n",
      "A value is trying to be set on a copy of a slice from a DataFrame.\n",
      "Try using .loc[row_indexer,col_indexer] = value instead\n",
      "\n",
      "See the caveats in the documentation: https://pandas.pydata.org/pandas-docs/stable/user_guide/indexing.html#returning-a-view-versus-a-copy\n",
      "  T['Vn'] = np.ones(len(T)) * (1 / (1 + i))\n",
      "/var/folders/jn/6s4fnp_x27qcfq657s92n39m0000gn/T/ipykernel_1247/4033712413.py:35: SettingWithCopyWarning: \n",
      "A value is trying to be set on a copy of a slice from a DataFrame.\n",
      "Try using .loc[row_indexer,col_indexer] = value instead\n",
      "\n",
      "See the caveats in the documentation: https://pandas.pydata.org/pandas-docs/stable/user_guide/indexing.html#returning-a-view-versus-a-copy\n",
      "  T['Vn'] = T.apply(lambda x: x['Vn'] ** x['n'], axis=1)\n"
     ]
    }
   ],
   "source": [
    "# Parámetros iniciales\n",
    "edad_actual = 30 \n",
    "edad_jubilacion = 57 \n",
    "salario_base = 7000000  \n",
    "tasa_anual = 0.04  # Tasa anual de rendimiento\n",
    "\n",
    "# Cálculo de Pago Mensual\n",
    "pago_mensual = salario_base * 0.16\n",
    "\n",
    "# Cálculo de Número de Meses hasta Jubilación\n",
    "n = (edad_jubilacion - edad_actual) * 12\n",
    "\n",
    "# Tasa de Interés Mensual\n",
    "i = tasa_anual / 12\n",
    "\n",
    "# Valor Inicial\n",
    "valor_inicial = 0\n",
    "\n",
    "# Cálculo de Valor Futuro de Contribuciones\n",
    "vf = vf_cte(pago_mensual, n, i, valor_inicial)\n",
    "print(\"Valor Futuro de Contribuciones:\", vf)\n",
    "\n",
    "# Cálculo Total de Contribuciones\n",
    "total_contribuciones = n * pago_mensual\n",
    "print(\"Total de Contribuciones:\", total_contribuciones)\n",
    "\n",
    "# Filtrar Tabla de Mortalidad para Mujeres\n",
    "T = tmort_filtered(tabla_mortalidad_mensual_mujeres, edad_jubilacion)\n",
    "\n",
    "# Calcular Meses desde Jubilación\n",
    "T['n'] = T['x'].apply(lambda x: (x - edad_jubilacion) * 12)\n",
    "\n",
    "# Calcular Factor de Descuento\n",
    "T['Vn'] = np.ones(len(T)) * (1 / (1 + i))\n",
    "T['Vn'] = T.apply(lambda x: x['Vn'] ** x['n'], axis=1)\n",
    "\n",
    "# Calculo Suma Ponderada de Probabilidades\n",
    "sum_vector = T['p(x)'] * T['Vn']\n",
    "suma_total = sum_vector.sum()\n",
    "print(\"Suma Total:\", suma_total)"
   ]
  },
  {
   "cell_type": "code",
   "execution_count": 37,
   "id": "0cccd26a-6924-422f-bc30-e29e25fe5610",
   "metadata": {},
   "outputs": [
    {
     "name": "stdout",
     "output_type": "stream",
     "text": [
      "2483921.998205512\n"
     ]
    }
   ],
   "source": [
    "relacion_vf_suma = vf / suma_total\n",
    "print(relacion_vf_suma)"
   ]
  },
  {
   "cell_type": "code",
   "execution_count": 38,
   "id": "78d3f0d3-30ab-402b-a61d-2d9bcdbef6cd",
   "metadata": {},
   "outputs": [
    {
     "data": {
      "text/plain": [
       "21.916666666666668"
      ]
     },
     "execution_count": 38,
     "metadata": {},
     "output_type": "execute_result"
    }
   ],
   "source": [
    "263/12"
   ]
  },
  {
   "cell_type": "markdown",
   "id": "f48dab13-1546-4879-a2aa-d49f8006f129",
   "metadata": {},
   "source": [
    "### Cambio de monto inicial"
   ]
  },
  {
   "cell_type": "code",
   "execution_count": 40,
   "id": "e817f467-066a-41cc-89e6-47e8a4a37603",
   "metadata": {},
   "outputs": [
    {
     "name": "stdout",
     "output_type": "stream",
     "text": [
      "458880000.0\n",
      "Valor Futuro de Contribuciones: 935991032.5096068\n",
      "Total de Contribuciones: 362880000.0\n",
      "Suma Total: 263.2164186769155\n"
     ]
    },
    {
     "name": "stderr",
     "output_type": "stream",
     "text": [
      "/var/folders/jn/6s4fnp_x27qcfq657s92n39m0000gn/T/ipykernel_1247/345067203.py:32: SettingWithCopyWarning: \n",
      "A value is trying to be set on a copy of a slice from a DataFrame.\n",
      "Try using .loc[row_indexer,col_indexer] = value instead\n",
      "\n",
      "See the caveats in the documentation: https://pandas.pydata.org/pandas-docs/stable/user_guide/indexing.html#returning-a-view-versus-a-copy\n",
      "  T['n'] = T['x'].apply(lambda x: (x - edad_jubilacion) * 12)\n",
      "/var/folders/jn/6s4fnp_x27qcfq657s92n39m0000gn/T/ipykernel_1247/345067203.py:35: SettingWithCopyWarning: \n",
      "A value is trying to be set on a copy of a slice from a DataFrame.\n",
      "Try using .loc[row_indexer,col_indexer] = value instead\n",
      "\n",
      "See the caveats in the documentation: https://pandas.pydata.org/pandas-docs/stable/user_guide/indexing.html#returning-a-view-versus-a-copy\n",
      "  T['Vn'] = np.ones(len(T)) * (1 / (1 + i))\n",
      "/var/folders/jn/6s4fnp_x27qcfq657s92n39m0000gn/T/ipykernel_1247/345067203.py:36: SettingWithCopyWarning: \n",
      "A value is trying to be set on a copy of a slice from a DataFrame.\n",
      "Try using .loc[row_indexer,col_indexer] = value instead\n",
      "\n",
      "See the caveats in the documentation: https://pandas.pydata.org/pandas-docs/stable/user_guide/indexing.html#returning-a-view-versus-a-copy\n",
      "  T['Vn'] = T.apply(lambda x: x['Vn'] ** x['n'], axis=1)\n"
     ]
    }
   ],
   "source": [
    "# Parámetros iniciales\n",
    "edad_actual = 30  # Edad actual\n",
    "edad_jubilacion = 57  # Edad de jubilación para mujer\n",
    "salario_base = 7_000_000  # Salario base\n",
    "tasa_anual = 0.04  # Tasa anual de rendimiento\n",
    "\n",
    "# Cálculo de Pago Mensual\n",
    "# Contribución del 16% del salario\n",
    "pago_mensual = salario_base * 0.16\n",
    "\n",
    "# Cálculo de Número de Meses hasta Jubilación\n",
    "n = (edad_jubilacion - edad_actual) * 12\n",
    "\n",
    "# Tasa de Interés Mensual\n",
    "i = tasa_anual / 12\n",
    "\n",
    "# Valor Inicial\n",
    "valor_inicial = 96000000\n",
    "\n",
    "# Cálculo de Valor Futuro de Contribuciones Constantes\n",
    "vf = vf_cte(pago_mensual, n, i, valor_inicial)\n",
    "print(\"Valor Futuro de Contribuciones:\", vf)\n",
    "\n",
    "# Cálculo Total de Contribuciones\n",
    "total_contribuciones = n * pago_mensual\n",
    "print(\"Total de Contribuciones:\", total_contribuciones)\n",
    "\n",
    "# Filtrar Tabla de Mortalidad para Mujeres\n",
    "T = tmort_filtered(tabla_mortalidad_mensual_mujeres, edad_jubilacion)\n",
    "\n",
    "# Calcular Meses desde Jubilación\n",
    "T['n'] = T['x'].apply(lambda x: (x - edad_jubilacion) * 12)\n",
    "\n",
    "# Calcular Factor de Descuento\n",
    "T['Vn'] = np.ones(len(T)) * (1 / (1 + i))\n",
    "T['Vn'] = T.apply(lambda x: x['Vn'] ** x['n'], axis=1)\n",
    "\n",
    "# Calcular Suma Ponderada de Probabilidades\n",
    "sum_vector = T['p(x)'] * T['Vn']\n",
    "suma_total = sum_vector.sum()\n",
    "print(\"Suma Total:\", suma_total)"
   ]
  },
  {
   "cell_type": "code",
   "execution_count": 41,
   "id": "7f17de15-b9eb-4d19-88c4-8b40b02e183f",
   "metadata": {},
   "outputs": [
    {
     "name": "stdout",
     "output_type": "stream",
     "text": [
      "3555975.1067751106\n"
     ]
    }
   ],
   "source": [
    "resultado_final = vf / suma_total\n",
    "print(resultado_final)"
   ]
  }
 ],
 "metadata": {
  "kernelspec": {
   "display_name": "",
   "name": ""
  },
  "language_info": {
   "name": ""
  }
 },
 "nbformat": 4,
 "nbformat_minor": 5
}
