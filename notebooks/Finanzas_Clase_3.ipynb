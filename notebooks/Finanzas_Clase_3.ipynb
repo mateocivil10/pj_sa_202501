{
  "nbformat": 4,
  "nbformat_minor": 0,
  "metadata": {
    "colab": {
      "provenance": []
    },
    "kernelspec": {
      "name": "python3",
      "display_name": "Python 3"
    },
    "language_info": {
      "name": "python"
    }
  },
  "cells": [
    {
      "cell_type": "code",
      "source": [
        "def vd_ctr(pago,n,i):\n",
        "\n",
        "  #Pago -> Valor de la mensualidad\n",
        "  #n -> Número de periodos\n",
        "  # i -> Interés en a periocidad n\n",
        "  #El n e i deben estar en la misma periodicidad\n",
        "\n",
        "  pagos= np.ones(n)*pago\n",
        "  print(pagos.sum())\n",
        "  cap_factor=np.ones(n)*(1+i)**np.arange(n,0,-1)\n",
        "  resp_vector= pagos*cap_factor\n",
        "  resp= resp_vector.sum()\n",
        "\n",
        "  return resp"
      ],
      "metadata": {
        "id": "zFnBWcdOEr86"
      },
      "execution_count": 4,
      "outputs": []
    }
  ]
}